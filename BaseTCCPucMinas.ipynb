{
 "cells": [
  {
   "cell_type": "markdown",
   "id": "eba11e1a",
   "metadata": {},
   "source": [
    "# Base de dados"
   ]
  },
  {
   "cell_type": "markdown",
   "id": "477b0878",
   "metadata": {},
   "source": [
    "## Importação da base de dados"
   ]
  },
  {
   "cell_type": "code",
   "execution_count": 1,
   "id": "8b1a3c5a",
   "metadata": {},
   "outputs": [
    {
     "data": {
      "text/html": [
       "<div>\n",
       "<style scoped>\n",
       "    .dataframe tbody tr th:only-of-type {\n",
       "        vertical-align: middle;\n",
       "    }\n",
       "\n",
       "    .dataframe tbody tr th {\n",
       "        vertical-align: top;\n",
       "    }\n",
       "\n",
       "    .dataframe thead th {\n",
       "        text-align: right;\n",
       "    }\n",
       "</style>\n",
       "<table border=\"1\" class=\"dataframe\">\n",
       "  <thead>\n",
       "    <tr style=\"text-align: right;\">\n",
       "      <th></th>\n",
       "      <th>REG ANS</th>\n",
       "      <th>DATA</th>\n",
       "      <th>IED</th>\n",
       "      <th>Fatur</th>\n",
       "      <th>EVA</th>\n",
       "      <th>EBITDATRAD</th>\n",
       "      <th>RSV</th>\n",
       "      <th>ROA</th>\n",
       "      <th>ROE</th>\n",
       "      <th>MEBITDA</th>\n",
       "      <th>...</th>\n",
       "      <th>Beneftot</th>\n",
       "      <th>TKM</th>\n",
       "      <th>CMg</th>\n",
       "      <th>Lerner</th>\n",
       "      <th>Reclam</th>\n",
       "      <th>Ireclam</th>\n",
       "      <th>Segmentacao</th>\n",
       "      <th>Modalidade</th>\n",
       "      <th>Estado</th>\n",
       "      <th>FEA</th>\n",
       "    </tr>\n",
       "  </thead>\n",
       "  <tbody>\n",
       "    <tr>\n",
       "      <th>0</th>\n",
       "      <td>27</td>\n",
       "      <td>01/10/2007</td>\n",
       "      <td>0</td>\n",
       "      <td>4.606816e+06</td>\n",
       "      <td>-1497034.12</td>\n",
       "      <td>4.040939e+04</td>\n",
       "      <td>0.56</td>\n",
       "      <td>0.06</td>\n",
       "      <td>0.07</td>\n",
       "      <td>0.49</td>\n",
       "      <td>...</td>\n",
       "      <td>2366.0</td>\n",
       "      <td>162.26</td>\n",
       "      <td>76.36</td>\n",
       "      <td>0.53</td>\n",
       "      <td>2</td>\n",
       "      <td>8.45</td>\n",
       "      <td>MÉDICO-HOSPITALAR</td>\n",
       "      <td>Seguradora Especializada em Saúde</td>\n",
       "      <td>RJ</td>\n",
       "      <td>0</td>\n",
       "    </tr>\n",
       "    <tr>\n",
       "      <th>1</th>\n",
       "      <td>43</td>\n",
       "      <td>01/10/2007</td>\n",
       "      <td>1</td>\n",
       "      <td>4.039453e+09</td>\n",
       "      <td>17316018.84</td>\n",
       "      <td>1.812340e+08</td>\n",
       "      <td>0.28</td>\n",
       "      <td>0.14</td>\n",
       "      <td>0.27</td>\n",
       "      <td>0.12</td>\n",
       "      <td>...</td>\n",
       "      <td>760438.0</td>\n",
       "      <td>436.36</td>\n",
       "      <td>317.80</td>\n",
       "      <td>0.27</td>\n",
       "      <td>86</td>\n",
       "      <td>1.13</td>\n",
       "      <td>MÉDICO-HOSPITALAR</td>\n",
       "      <td>Seguradora Especializada em Saúde</td>\n",
       "      <td>RJ</td>\n",
       "      <td>1</td>\n",
       "    </tr>\n",
       "    <tr>\n",
       "      <th>2</th>\n",
       "      <td>51</td>\n",
       "      <td>01/10/2007</td>\n",
       "      <td>0</td>\n",
       "      <td>0.000000e+00</td>\n",
       "      <td>-559338.91</td>\n",
       "      <td>-2.541484e+04</td>\n",
       "      <td>0.00</td>\n",
       "      <td>-0.01</td>\n",
       "      <td>-0.01</td>\n",
       "      <td>0.00</td>\n",
       "      <td>...</td>\n",
       "      <td>545311.0</td>\n",
       "      <td>0.00</td>\n",
       "      <td>0.00</td>\n",
       "      <td>NaN</td>\n",
       "      <td>0</td>\n",
       "      <td>0.00</td>\n",
       "      <td>MÉDICO-HOSPITALAR</td>\n",
       "      <td>Seguradora Especializada em Saúde</td>\n",
       "      <td>RJ</td>\n",
       "      <td>1</td>\n",
       "    </tr>\n",
       "    <tr>\n",
       "      <th>3</th>\n",
       "      <td>361</td>\n",
       "      <td>01/10/2007</td>\n",
       "      <td>0</td>\n",
       "      <td>3.738584e+08</td>\n",
       "      <td>-2585007.95</td>\n",
       "      <td>1.405217e+07</td>\n",
       "      <td>0.36</td>\n",
       "      <td>0.13</td>\n",
       "      <td>0.30</td>\n",
       "      <td>0.15</td>\n",
       "      <td>...</td>\n",
       "      <td>83703.0</td>\n",
       "      <td>372.21</td>\n",
       "      <td>287.08</td>\n",
       "      <td>0.23</td>\n",
       "      <td>0</td>\n",
       "      <td>0.00</td>\n",
       "      <td>MÉDICO-HOSPITALAR</td>\n",
       "      <td>Seguradora Especializada em Saúde</td>\n",
       "      <td>SP</td>\n",
       "      <td>1</td>\n",
       "    </tr>\n",
       "    <tr>\n",
       "      <th>4</th>\n",
       "      <td>477</td>\n",
       "      <td>01/10/2007</td>\n",
       "      <td>0</td>\n",
       "      <td>5.089409e+08</td>\n",
       "      <td>-275577.18</td>\n",
       "      <td>1.392222e+07</td>\n",
       "      <td>0.19</td>\n",
       "      <td>0.11</td>\n",
       "      <td>0.29</td>\n",
       "      <td>0.09</td>\n",
       "      <td>...</td>\n",
       "      <td>155874.0</td>\n",
       "      <td>272.09</td>\n",
       "      <td>195.10</td>\n",
       "      <td>0.28</td>\n",
       "      <td>15</td>\n",
       "      <td>0.96</td>\n",
       "      <td>MÉDICO-HOSPITALAR</td>\n",
       "      <td>Seguradora Especializada em Saúde</td>\n",
       "      <td>SP</td>\n",
       "      <td>0</td>\n",
       "    </tr>\n",
       "    <tr>\n",
       "      <th>...</th>\n",
       "      <td>...</td>\n",
       "      <td>...</td>\n",
       "      <td>...</td>\n",
       "      <td>...</td>\n",
       "      <td>...</td>\n",
       "      <td>...</td>\n",
       "      <td>...</td>\n",
       "      <td>...</td>\n",
       "      <td>...</td>\n",
       "      <td>...</td>\n",
       "      <td>...</td>\n",
       "      <td>...</td>\n",
       "      <td>...</td>\n",
       "      <td>...</td>\n",
       "      <td>...</td>\n",
       "      <td>...</td>\n",
       "      <td>...</td>\n",
       "      <td>...</td>\n",
       "      <td>...</td>\n",
       "      <td>...</td>\n",
       "      <td>...</td>\n",
       "    </tr>\n",
       "    <tr>\n",
       "      <th>12967</th>\n",
       "      <td>420654</td>\n",
       "      <td>01/10/2016</td>\n",
       "      <td>0</td>\n",
       "      <td>0.000000e+00</td>\n",
       "      <td>0.00</td>\n",
       "      <td>-1.895670e+04</td>\n",
       "      <td>0.00</td>\n",
       "      <td>-0.05</td>\n",
       "      <td>-0.05</td>\n",
       "      <td>0.00</td>\n",
       "      <td>...</td>\n",
       "      <td>NaN</td>\n",
       "      <td>NaN</td>\n",
       "      <td>NaN</td>\n",
       "      <td>NaN</td>\n",
       "      <td>0</td>\n",
       "      <td>NaN</td>\n",
       "      <td>MÉDICO-HOSPITALAR</td>\n",
       "      <td>Administradora de Benefícios</td>\n",
       "      <td>BA</td>\n",
       "      <td>0</td>\n",
       "    </tr>\n",
       "    <tr>\n",
       "      <th>12968</th>\n",
       "      <td>420662</td>\n",
       "      <td>01/10/2016</td>\n",
       "      <td>0</td>\n",
       "      <td>1.000000e+00</td>\n",
       "      <td>0.00</td>\n",
       "      <td>0.000000e+00</td>\n",
       "      <td>0.00</td>\n",
       "      <td>0.00</td>\n",
       "      <td>0.00</td>\n",
       "      <td>0.00</td>\n",
       "      <td>...</td>\n",
       "      <td>NaN</td>\n",
       "      <td>NaN</td>\n",
       "      <td>NaN</td>\n",
       "      <td>NaN</td>\n",
       "      <td>0</td>\n",
       "      <td>NaN</td>\n",
       "      <td>MÉDICO-HOSPITALAR</td>\n",
       "      <td>Administradora de Benefícios</td>\n",
       "      <td>RJ</td>\n",
       "      <td>0</td>\n",
       "    </tr>\n",
       "    <tr>\n",
       "      <th>12969</th>\n",
       "      <td>420671</td>\n",
       "      <td>01/10/2016</td>\n",
       "      <td>0</td>\n",
       "      <td>0.000000e+00</td>\n",
       "      <td>0.00</td>\n",
       "      <td>-8.001000e+01</td>\n",
       "      <td>0.00</td>\n",
       "      <td>0.00</td>\n",
       "      <td>0.00</td>\n",
       "      <td>0.00</td>\n",
       "      <td>...</td>\n",
       "      <td>NaN</td>\n",
       "      <td>NaN</td>\n",
       "      <td>NaN</td>\n",
       "      <td>NaN</td>\n",
       "      <td>0</td>\n",
       "      <td>NaN</td>\n",
       "      <td>MÉDICO-HOSPITALAR</td>\n",
       "      <td>Administradora de Benefícios</td>\n",
       "      <td>DF</td>\n",
       "      <td>0</td>\n",
       "    </tr>\n",
       "    <tr>\n",
       "      <th>12970</th>\n",
       "      <td>420689</td>\n",
       "      <td>01/10/2016</td>\n",
       "      <td>0</td>\n",
       "      <td>1.000000e+00</td>\n",
       "      <td>0.00</td>\n",
       "      <td>0.000000e+00</td>\n",
       "      <td>0.00</td>\n",
       "      <td>0.00</td>\n",
       "      <td>0.00</td>\n",
       "      <td>0.00</td>\n",
       "      <td>...</td>\n",
       "      <td>NaN</td>\n",
       "      <td>NaN</td>\n",
       "      <td>NaN</td>\n",
       "      <td>NaN</td>\n",
       "      <td>0</td>\n",
       "      <td>NaN</td>\n",
       "      <td>MÉDICO-HOSPITALAR</td>\n",
       "      <td>Administradora de Benefícios</td>\n",
       "      <td>RJ</td>\n",
       "      <td>0</td>\n",
       "    </tr>\n",
       "    <tr>\n",
       "      <th>12971</th>\n",
       "      <td>420743</td>\n",
       "      <td>01/10/2016</td>\n",
       "      <td>0</td>\n",
       "      <td>0.000000e+00</td>\n",
       "      <td>-2892.96</td>\n",
       "      <td>1.494260e+03</td>\n",
       "      <td>0.00</td>\n",
       "      <td>0.03</td>\n",
       "      <td>0.03</td>\n",
       "      <td>0.00</td>\n",
       "      <td>...</td>\n",
       "      <td>NaN</td>\n",
       "      <td>NaN</td>\n",
       "      <td>NaN</td>\n",
       "      <td>NaN</td>\n",
       "      <td>0</td>\n",
       "      <td>NaN</td>\n",
       "      <td>MÉDICO-HOSPITALAR</td>\n",
       "      <td>Odontologia de Grupo</td>\n",
       "      <td>RN</td>\n",
       "      <td>0</td>\n",
       "    </tr>\n",
       "  </tbody>\n",
       "</table>\n",
       "<p>12972 rows × 39 columns</p>\n",
       "</div>"
      ],
      "text/plain": [
       "       REG ANS        DATA  IED         Fatur          EVA    EBITDATRAD  \\\n",
       "0           27  01/10/2007    0  4.606816e+06  -1497034.12  4.040939e+04   \n",
       "1           43  01/10/2007    1  4.039453e+09  17316018.84  1.812340e+08   \n",
       "2           51  01/10/2007    0  0.000000e+00   -559338.91 -2.541484e+04   \n",
       "3          361  01/10/2007    0  3.738584e+08  -2585007.95  1.405217e+07   \n",
       "4          477  01/10/2007    0  5.089409e+08   -275577.18  1.392222e+07   \n",
       "...        ...         ...  ...           ...          ...           ...   \n",
       "12967   420654  01/10/2016    0  0.000000e+00         0.00 -1.895670e+04   \n",
       "12968   420662  01/10/2016    0  1.000000e+00         0.00  0.000000e+00   \n",
       "12969   420671  01/10/2016    0  0.000000e+00         0.00 -8.001000e+01   \n",
       "12970   420689  01/10/2016    0  1.000000e+00         0.00  0.000000e+00   \n",
       "12971   420743  01/10/2016    0  0.000000e+00     -2892.96  1.494260e+03   \n",
       "\n",
       "        RSV   ROA   ROE  MEBITDA  ...  Beneftot     TKM     CMg  Lerner  \\\n",
       "0      0.56  0.06  0.07     0.49  ...    2366.0  162.26   76.36    0.53   \n",
       "1      0.28  0.14  0.27     0.12  ...  760438.0  436.36  317.80    0.27   \n",
       "2      0.00 -0.01 -0.01     0.00  ...  545311.0    0.00    0.00     NaN   \n",
       "3      0.36  0.13  0.30     0.15  ...   83703.0  372.21  287.08    0.23   \n",
       "4      0.19  0.11  0.29     0.09  ...  155874.0  272.09  195.10    0.28   \n",
       "...     ...   ...   ...      ...  ...       ...     ...     ...     ...   \n",
       "12967  0.00 -0.05 -0.05     0.00  ...       NaN     NaN     NaN     NaN   \n",
       "12968  0.00  0.00  0.00     0.00  ...       NaN     NaN     NaN     NaN   \n",
       "12969  0.00  0.00  0.00     0.00  ...       NaN     NaN     NaN     NaN   \n",
       "12970  0.00  0.00  0.00     0.00  ...       NaN     NaN     NaN     NaN   \n",
       "12971  0.00  0.03  0.03     0.00  ...       NaN     NaN     NaN     NaN   \n",
       "\n",
       "       Reclam  Ireclam        Segmentacao                         Modalidade  \\\n",
       "0           2     8.45  MÉDICO-HOSPITALAR  Seguradora Especializada em Saúde   \n",
       "1          86     1.13  MÉDICO-HOSPITALAR  Seguradora Especializada em Saúde   \n",
       "2           0     0.00  MÉDICO-HOSPITALAR  Seguradora Especializada em Saúde   \n",
       "3           0     0.00  MÉDICO-HOSPITALAR  Seguradora Especializada em Saúde   \n",
       "4          15     0.96  MÉDICO-HOSPITALAR  Seguradora Especializada em Saúde   \n",
       "...       ...      ...                ...                                ...   \n",
       "12967       0      NaN  MÉDICO-HOSPITALAR       Administradora de Benefícios   \n",
       "12968       0      NaN  MÉDICO-HOSPITALAR       Administradora de Benefícios   \n",
       "12969       0      NaN  MÉDICO-HOSPITALAR       Administradora de Benefícios   \n",
       "12970       0      NaN  MÉDICO-HOSPITALAR       Administradora de Benefícios   \n",
       "12971       0      NaN  MÉDICO-HOSPITALAR               Odontologia de Grupo   \n",
       "\n",
       "       Estado  FEA  \n",
       "0          RJ    0  \n",
       "1          RJ    1  \n",
       "2          RJ    1  \n",
       "3          SP    1  \n",
       "4          SP    0  \n",
       "...       ...  ...  \n",
       "12967      BA    0  \n",
       "12968      RJ    0  \n",
       "12969      DF    0  \n",
       "12970      RJ    0  \n",
       "12971      RN    0  \n",
       "\n",
       "[12972 rows x 39 columns]"
      ]
     },
     "metadata": {},
     "output_type": "display_data"
    },
    {
     "name": "stdout",
     "output_type": "stream",
     "text": [
      "<class 'pandas.core.frame.DataFrame'>\n",
      "RangeIndex: 12972 entries, 0 to 12971\n",
      "Data columns (total 39 columns):\n",
      " #   Column       Non-Null Count  Dtype  \n",
      "---  ------       --------------  -----  \n",
      " 0   REG ANS      12972 non-null  int64  \n",
      " 1   DATA         12972 non-null  object \n",
      " 2   IED          12972 non-null  int64  \n",
      " 3   Fatur        12972 non-null  float64\n",
      " 4   EVA          12972 non-null  float64\n",
      " 5   EBITDATRAD   12972 non-null  float64\n",
      " 6   RSV          12886 non-null  float64\n",
      " 7   ROA          12965 non-null  float64\n",
      " 8   ROE          12957 non-null  float64\n",
      " 9   MEBITDA      12915 non-null  float64\n",
      " 10  PMRE         12687 non-null  float64\n",
      " 11  PMPE         12687 non-null  float64\n",
      " 12  Ciclo        12687 non-null  float64\n",
      " 13  Imob         12972 non-null  float64\n",
      " 14  PCT          11866 non-null  float64\n",
      " 15  CE           12970 non-null  float64\n",
      " 16  LC           12773 non-null  float64\n",
      " 17  LG           12774 non-null  float64\n",
      " 18  ISTR         12939 non-null  float64\n",
      " 19  IDC          12960 non-null  float64\n",
      " 20  IDA          12825 non-null  float64\n",
      " 21  TAM          12972 non-null  float64\n",
      " 22  HHI          12972 non-null  float64\n",
      " 23  CR4          12972 non-null  float64\n",
      " 24  CR8          12972 non-null  float64\n",
      " 25  CR12         12972 non-null  float64\n",
      " 26  CRn          12972 non-null  float64\n",
      " 27  Benefassist  11796 non-null  float64\n",
      " 28  Benefexcl    11796 non-null  float64\n",
      " 29  Beneftot     11796 non-null  float64\n",
      " 30  TKM          11704 non-null  float64\n",
      " 31  CMg          11378 non-null  float64\n",
      " 32  Lerner       4609 non-null   float64\n",
      " 33  Reclam       12972 non-null  int64  \n",
      " 34  Ireclam      11796 non-null  float64\n",
      " 35  Segmentacao  12972 non-null  object \n",
      " 36  Modalidade   12972 non-null  object \n",
      " 37  Estado       12972 non-null  object \n",
      " 38  FEA          12972 non-null  int64  \n",
      "dtypes: float64(31), int64(4), object(4)\n",
      "memory usage: 3.9+ MB\n",
      "None\n"
     ]
    }
   ],
   "source": [
    "import pandas as pd\n",
    "\n",
    "# Lê o arquivo CSV\n",
    "dadosops = pd.read_csv('BaseOPS.csv', sep=\";\", decimal=',')\n",
    "display(dadosops)\n",
    "print(dadosops.info())"
   ]
  },
  {
   "cell_type": "code",
   "execution_count": 2,
   "id": "03fcb8ea",
   "metadata": {},
   "outputs": [
    {
     "data": {
      "text/plain": [
       "0    12377\n",
       "1      595\n",
       "Name: FEA, dtype: int64"
      ]
     },
     "metadata": {},
     "output_type": "display_data"
    },
    {
     "data": {
      "text/plain": [
       "0    95.4%\n",
       "1     4.6%\n",
       "Name: FEA, dtype: object"
      ]
     },
     "metadata": {},
     "output_type": "display_data"
    }
   ],
   "source": [
    "display(dadosops[\"FEA\"].value_counts())\n",
    "display(dadosops[\"FEA\"].value_counts(normalize=True).map(\"{:.1%}\".format))"
   ]
  },
  {
   "cell_type": "markdown",
   "id": "e381c423",
   "metadata": {},
   "source": [
    "# Estatística descritiva"
   ]
  },
  {
   "cell_type": "code",
   "execution_count": 3,
   "id": "cfe631be",
   "metadata": {},
   "outputs": [
    {
     "name": "stdout",
     "output_type": "stream",
     "text": [
      "              REG ANS        DATA           IED         Fatur           EVA  \\\n",
      "count    12972.000000       12972  12972.000000  1.297200e+04  1.297200e+04   \n",
      "unique            NaN          10           NaN           NaN           NaN   \n",
      "top               NaN  01/10/2007           NaN           NaN           NaN   \n",
      "freq              NaN        1438           NaN           NaN           NaN   \n",
      "mean    363530.854456         NaN      0.015187  1.036273e+08 -5.613817e+06   \n",
      "std      52624.989545         NaN      0.122299  6.134611e+08  7.136234e+07   \n",
      "min         27.000000         NaN      0.000000 -1.046248e+07 -3.602216e+09   \n",
      "25%     330264.000000         NaN      0.000000  1.378487e+06 -1.190562e+06   \n",
      "50%     359289.000000         NaN      0.000000  1.046298e+07 -8.372429e+04   \n",
      "75%     411558.000000         NaN      0.000000  4.644742e+07  5.635078e+04   \n",
      "max     420743.000000         NaN      1.000000  2.016843e+10  1.878906e+08   \n",
      "\n",
      "          EBITDATRAD           RSV           ROA           ROE       MEBITDA  \\\n",
      "count   1.297200e+04  12886.000000  12965.000000  12957.000000  12915.000000   \n",
      "unique           NaN           NaN           NaN           NaN           NaN   \n",
      "top              NaN           NaN           NaN           NaN           NaN   \n",
      "freq             NaN           NaN           NaN           NaN           NaN   \n",
      "mean    1.060885e+06      0.031632     -0.026063      0.101601      0.090839   \n",
      "std     3.936664e+07      4.661846      1.448109      3.432577      3.534064   \n",
      "min    -2.608769e+09    -92.520000    -79.110000    -87.350000    -90.980000   \n",
      "25%    -2.307747e+04     -0.010000     -0.020000     -0.010000      0.000000   \n",
      "50%     1.220135e+05      0.070000      0.030000      0.110000      0.050000   \n",
      "75%     9.787689e+05      0.270000      0.110000      0.310000      0.130000   \n",
      "max     1.145761e+09     95.820000     20.740000     91.070000     97.050000   \n",
      "\n",
      "        ...      Beneftot           TKM           CMg       Lerner  \\\n",
      "count   ...  1.179600e+04  11704.000000  1.137800e+04  4609.000000   \n",
      "unique  ...           NaN           NaN           NaN          NaN   \n",
      "top     ...           NaN           NaN           NaN          NaN   \n",
      "freq    ...           NaN           NaN           NaN          NaN   \n",
      "mean    ...  5.038758e+04    160.733511 -1.110032e+02     0.486949   \n",
      "std     ...  2.397741e+05    170.260491  2.663961e+04     0.280125   \n",
      "min     ...  1.000000e+00      0.000000 -2.065598e+06     0.000000   \n",
      "25%     ...  3.021500e+03     33.597500 -4.535000e+00     0.250000   \n",
      "50%     ...  1.032012e+04    135.350000  4.133500e+01     0.460000   \n",
      "75%     ...  2.969875e+04    218.402500  2.008525e+02     0.720000   \n",
      "max     ...  5.784163e+06   1980.240000  4.952308e+05     1.000000   \n",
      "\n",
      "              Reclam       Ireclam        Segmentacao         Modalidade  \\\n",
      "count   12972.000000  11796.000000              12972              12972   \n",
      "unique           NaN           NaN                  2                  8   \n",
      "top              NaN           NaN  MÉDICO-HOSPITALAR  Medicina de Grupo   \n",
      "freq             NaN           NaN               8575               3315   \n",
      "mean       43.156337      7.046062                NaN                NaN   \n",
      "std       368.136092     87.251698                NaN                NaN   \n",
      "min         0.000000      0.000000                NaN                NaN   \n",
      "25%         0.000000      0.000000                NaN                NaN   \n",
      "50%         1.000000      0.890000                NaN                NaN   \n",
      "75%         7.000000      4.520000                NaN                NaN   \n",
      "max     15512.000000   9052.550000                NaN                NaN   \n",
      "\n",
      "        Estado           FEA  \n",
      "count    12972  12972.000000  \n",
      "unique      27           NaN  \n",
      "top         SP           NaN  \n",
      "freq      4714           NaN  \n",
      "mean       NaN      0.045868  \n",
      "std        NaN      0.209207  \n",
      "min        NaN      0.000000  \n",
      "25%        NaN      0.000000  \n",
      "50%        NaN      0.000000  \n",
      "75%        NaN      0.000000  \n",
      "max        NaN      1.000000  \n",
      "\n",
      "[11 rows x 39 columns]\n"
     ]
    }
   ],
   "source": [
    "stats = dadosops.describe(include = 'all')\n",
    "print(stats)"
   ]
  },
  {
   "cell_type": "markdown",
   "id": "c0fbd6e2",
   "metadata": {},
   "source": [
    "# Dados faltantes"
   ]
  },
  {
   "cell_type": "code",
   "execution_count": 4,
   "id": "65161a46",
   "metadata": {},
   "outputs": [
    {
     "data": {
      "text/plain": [
       "REG ANS           0\n",
       "DATA              0\n",
       "IED               0\n",
       "Fatur             0\n",
       "EVA               0\n",
       "EBITDATRAD        0\n",
       "RSV              86\n",
       "ROA               7\n",
       "ROE              15\n",
       "MEBITDA          57\n",
       "PMRE            285\n",
       "PMPE            285\n",
       "Ciclo           285\n",
       "Imob              0\n",
       "PCT            1106\n",
       "CE                2\n",
       "LC              199\n",
       "LG              198\n",
       "ISTR             33\n",
       "IDC              12\n",
       "IDA             147\n",
       "TAM               0\n",
       "HHI               0\n",
       "CR4               0\n",
       "CR8               0\n",
       "CR12              0\n",
       "CRn               0\n",
       "Benefassist    1176\n",
       "Benefexcl      1176\n",
       "Beneftot       1176\n",
       "TKM            1268\n",
       "CMg            1594\n",
       "Lerner         8363\n",
       "Reclam            0\n",
       "Ireclam        1176\n",
       "Segmentacao       0\n",
       "Modalidade        0\n",
       "Estado            0\n",
       "FEA               0\n",
       "dtype: int64"
      ]
     },
     "execution_count": 4,
     "metadata": {},
     "output_type": "execute_result"
    }
   ],
   "source": [
    "dadosops.isnull().sum()"
   ]
  },
  {
   "cell_type": "markdown",
   "id": "aa4b729b",
   "metadata": {},
   "source": [
    "# Substituir dados faltantes pela média"
   ]
  },
  {
   "cell_type": "code",
   "execution_count": null,
   "id": "50320247",
   "metadata": {
    "scrolled": true
   },
   "outputs": [],
   "source": [
    "#teste = dadosops[\"RSV\"].fillna(dadosops[\"RSV\"].mean())\n",
    "#teste.head(50)"
   ]
  },
  {
   "cell_type": "markdown",
   "id": "98c3bfbf",
   "metadata": {},
   "source": [
    "# Substituir dados faltantes por interpolação (forward fill)"
   ]
  },
  {
   "cell_type": "code",
   "execution_count": 5,
   "id": "a106c730",
   "metadata": {
    "scrolled": true
   },
   "outputs": [],
   "source": [
    "dadosops[[\"RSV\", \"ROA\", \"ROE\", \"MEBITDA\", \"PMRE\", \"PMPE\", \"Ciclo\", \"PCT\", \"CE\", \n",
    "          \"LC\", \"LG\", \"ISTR\", \"IDC\", \"IDA\", \"Benefassist\", \"Benefexcl\", \"Beneftot\", \"TKM\", \n",
    "          \"CMg\", \"Lerner\", \"Ireclam\"]] = dadosops[[\"RSV\", \"ROA\", \"ROE\", \"MEBITDA\", \"PMRE\", \"PMPE\", \n",
    "                                                   \"Ciclo\", \"PCT\", \"CE\", \"LC\", \"LG\", \"ISTR\", \"IDC\", \"IDA\", \n",
    "                                                   \"Benefassist\", \"Benefexcl\", \"Beneftot\", \"TKM\", \"CMg\", \n",
    "                                                   \"Lerner\", \"Ireclam\"]].fillna(method='ffill')\n"
   ]
  },
  {
   "cell_type": "code",
   "execution_count": 6,
   "id": "6d63cf42",
   "metadata": {},
   "outputs": [
    {
     "data": {
      "text/plain": [
       "REG ANS        0\n",
       "DATA           0\n",
       "IED            0\n",
       "Fatur          0\n",
       "EVA            0\n",
       "EBITDATRAD     0\n",
       "RSV            0\n",
       "ROA            0\n",
       "ROE            0\n",
       "MEBITDA        0\n",
       "PMRE           0\n",
       "PMPE           0\n",
       "Ciclo          0\n",
       "Imob           0\n",
       "PCT            0\n",
       "CE             0\n",
       "LC             0\n",
       "LG             0\n",
       "ISTR           0\n",
       "IDC            0\n",
       "IDA            0\n",
       "TAM            0\n",
       "HHI            0\n",
       "CR4            0\n",
       "CR8            0\n",
       "CR12           0\n",
       "CRn            0\n",
       "Benefassist    0\n",
       "Benefexcl      0\n",
       "Beneftot       0\n",
       "TKM            0\n",
       "CMg            0\n",
       "Lerner         0\n",
       "Reclam         0\n",
       "Ireclam        0\n",
       "Segmentacao    0\n",
       "Modalidade     0\n",
       "Estado         0\n",
       "FEA            0\n",
       "dtype: int64"
      ]
     },
     "execution_count": 6,
     "metadata": {},
     "output_type": "execute_result"
    }
   ],
   "source": [
    "dadosops.isnull().sum()"
   ]
  },
  {
   "cell_type": "code",
   "execution_count": 7,
   "id": "4f452a66",
   "metadata": {},
   "outputs": [
    {
     "name": "stdout",
     "output_type": "stream",
     "text": [
      "              REG ANS        DATA           IED         Fatur           EVA  \\\n",
      "count    12972.000000       12972  12972.000000  1.297200e+04  1.297200e+04   \n",
      "unique            NaN          10           NaN           NaN           NaN   \n",
      "top               NaN  01/10/2007           NaN           NaN           NaN   \n",
      "freq              NaN        1438           NaN           NaN           NaN   \n",
      "mean    363530.854456         NaN      0.015187  1.036273e+08 -5.613817e+06   \n",
      "std      52624.989545         NaN      0.122299  6.134611e+08  7.136234e+07   \n",
      "min         27.000000         NaN      0.000000 -1.046248e+07 -3.602216e+09   \n",
      "25%     330264.000000         NaN      0.000000  1.378487e+06 -1.190562e+06   \n",
      "50%     359289.000000         NaN      0.000000  1.046298e+07 -8.372429e+04   \n",
      "75%     411558.000000         NaN      0.000000  4.644742e+07  5.635078e+04   \n",
      "max     420743.000000         NaN      1.000000  2.016843e+10  1.878906e+08   \n",
      "\n",
      "          EBITDATRAD           RSV           ROA           ROE       MEBITDA  \\\n",
      "count   1.297200e+04  12972.000000  12972.000000  12972.000000  12972.000000   \n",
      "unique           NaN           NaN           NaN           NaN           NaN   \n",
      "top              NaN           NaN           NaN           NaN           NaN   \n",
      "freq             NaN           NaN           NaN           NaN           NaN   \n",
      "mean    1.060885e+06      0.028837     -0.025939      0.101829      0.090126   \n",
      "std     3.936664e+07      4.671820      1.447736      3.430640      3.530372   \n",
      "min    -2.608769e+09    -92.520000    -79.110000    -87.350000    -90.980000   \n",
      "25%    -2.307747e+04     -0.010000     -0.020000     -0.010000      0.000000   \n",
      "50%     1.220135e+05      0.070000      0.030000      0.110000      0.050000   \n",
      "75%     9.787689e+05      0.270000      0.110000      0.310000      0.130000   \n",
      "max     1.145761e+09     95.820000     20.740000     91.070000     97.050000   \n",
      "\n",
      "        ...      Beneftot           TKM           CMg        Lerner  \\\n",
      "count   ...  1.297200e+04  12972.000000  1.297200e+04  12972.000000   \n",
      "unique  ...           NaN           NaN           NaN           NaN   \n",
      "top     ...           NaN           NaN           NaN           NaN   \n",
      "freq    ...           NaN           NaN           NaN           NaN   \n",
      "mean    ...  4.743011e+04    157.841018  7.628326e+01      0.512868   \n",
      "std     ...  2.295179e+05    175.439721  2.574673e+04      0.286692   \n",
      "min     ...  1.000000e+00      0.000000 -2.065598e+06      0.000000   \n",
      "25%     ...  2.619000e+03     28.717500 -1.665000e+00      0.270000   \n",
      "50%     ...  9.399500e+03    127.585000  3.771500e+01      0.500000   \n",
      "75%     ...  2.790419e+04    215.930000  2.021825e+02      0.760000   \n",
      "max     ...  5.784163e+06   1980.240000  4.952308e+05      1.000000   \n",
      "\n",
      "              Reclam       Ireclam        Segmentacao         Modalidade  \\\n",
      "count   12972.000000  12972.000000              12972              12972   \n",
      "unique           NaN           NaN                  2                  8   \n",
      "top              NaN           NaN  MÉDICO-HOSPITALAR  Medicina de Grupo   \n",
      "freq             NaN           NaN               8575               3315   \n",
      "mean       43.156337      6.761472                NaN                NaN   \n",
      "std       368.136092     83.375041                NaN                NaN   \n",
      "min         0.000000      0.000000                NaN                NaN   \n",
      "25%         0.000000      0.000000                NaN                NaN   \n",
      "50%         1.000000      0.690000                NaN                NaN   \n",
      "75%         7.000000      4.270000                NaN                NaN   \n",
      "max     15512.000000   9052.550000                NaN                NaN   \n",
      "\n",
      "        Estado           FEA  \n",
      "count    12972  12972.000000  \n",
      "unique      27           NaN  \n",
      "top         SP           NaN  \n",
      "freq      4714           NaN  \n",
      "mean       NaN      0.045868  \n",
      "std        NaN      0.209207  \n",
      "min        NaN      0.000000  \n",
      "25%        NaN      0.000000  \n",
      "50%        NaN      0.000000  \n",
      "75%        NaN      0.000000  \n",
      "max        NaN      1.000000  \n",
      "\n",
      "[11 rows x 39 columns]\n"
     ]
    }
   ],
   "source": [
    "dadosops.isnull().sum()\n",
    "stats = dadosops.describe(include = 'all')\n",
    "print(stats)"
   ]
  },
  {
   "cell_type": "markdown",
   "id": "37897f82",
   "metadata": {},
   "source": [
    "# Aplicar método SMOTE"
   ]
  },
  {
   "cell_type": "code",
   "execution_count": 14,
   "id": "049f9fdf",
   "metadata": {},
   "outputs": [],
   "source": [
    "#Bibliotecas\n",
    "from sklearn.model_selection import train_test_split\n",
    "from imblearn.over_sampling import SMOTE\n",
    "from sklearn.metrics import classification_report"
   ]
  },
  {
   "cell_type": "code",
   "execution_count": 9,
   "id": "c27d9c10",
   "metadata": {},
   "outputs": [],
   "source": [
    "dadosops.drop([\"REG ANS\", \"DATA\", \"Modalidade\", \"Segmentacao\", \"Estado\" ], axis=1, inplace=True)"
   ]
  },
  {
   "cell_type": "code",
   "execution_count": 19,
   "id": "71b70b38",
   "metadata": {},
   "outputs": [],
   "source": [
    "X = dadosops.drop(['FEA'], axis=1)\n",
    "y = dadosops['FEA']"
   ]
  },
  {
   "cell_type": "code",
   "execution_count": 20,
   "id": "d8c55627",
   "metadata": {},
   "outputs": [],
   "source": [
    "smote = SMOTE(sampling_strategy='minority', random_state=42)"
   ]
  },
  {
   "cell_type": "code",
   "execution_count": 23,
   "id": "85f8afea",
   "metadata": {},
   "outputs": [],
   "source": [
    "X, y = smote.fit_resample(X, y)"
   ]
  },
  {
   "cell_type": "code",
   "execution_count": 24,
   "id": "65d5670c",
   "metadata": {},
   "outputs": [],
   "source": [
    "X_train, X_test, y_train, y_test = train_test_split(X, y, test_size=0.3, stratify=y, random_state=42)"
   ]
  },
  {
   "cell_type": "code",
   "execution_count": 25,
   "id": "1e4fe538",
   "metadata": {
    "scrolled": true
   },
   "outputs": [
    {
     "name": "stdout",
     "output_type": "stream",
     "text": [
      "1    8664\n",
      "0    8663\n",
      "Name: FEA, dtype: int64\n",
      "0    3714\n",
      "1    3713\n",
      "Name: FEA, dtype: int64\n"
     ]
    }
   ],
   "source": [
    "print(pd.Series(y_train).value_counts())\n",
    "print(pd.Series(y_test).value_counts())"
   ]
  },
  {
   "cell_type": "markdown",
   "id": "afdf6e00",
   "metadata": {},
   "source": [
    "# Aplicando XGBoost"
   ]
  },
  {
   "cell_type": "code",
   "execution_count": null,
   "id": "c2c5937e",
   "metadata": {},
   "outputs": [],
   "source": [
    "#Construindo o modelo"
   ]
  },
  {
   "cell_type": "code",
   "execution_count": 26,
   "id": "c2cf0e51",
   "metadata": {},
   "outputs": [],
   "source": [
    "#Biblioteca\n",
    "from xgboost import XGBClassifier"
   ]
  },
  {
   "cell_type": "code",
   "execution_count": 27,
   "id": "edf9a66c",
   "metadata": {},
   "outputs": [],
   "source": [
    "#Carregando o XGBoost\n",
    "model = XGBClassifier()"
   ]
  },
  {
   "cell_type": "code",
   "execution_count": 28,
   "id": "442fdf80",
   "metadata": {
    "scrolled": true
   },
   "outputs": [
    {
     "data": {
      "text/html": [
       "<style>#sk-container-id-1 {color: black;background-color: white;}#sk-container-id-1 pre{padding: 0;}#sk-container-id-1 div.sk-toggleable {background-color: white;}#sk-container-id-1 label.sk-toggleable__label {cursor: pointer;display: block;width: 100%;margin-bottom: 0;padding: 0.3em;box-sizing: border-box;text-align: center;}#sk-container-id-1 label.sk-toggleable__label-arrow:before {content: \"▸\";float: left;margin-right: 0.25em;color: #696969;}#sk-container-id-1 label.sk-toggleable__label-arrow:hover:before {color: black;}#sk-container-id-1 div.sk-estimator:hover label.sk-toggleable__label-arrow:before {color: black;}#sk-container-id-1 div.sk-toggleable__content {max-height: 0;max-width: 0;overflow: hidden;text-align: left;background-color: #f0f8ff;}#sk-container-id-1 div.sk-toggleable__content pre {margin: 0.2em;color: black;border-radius: 0.25em;background-color: #f0f8ff;}#sk-container-id-1 input.sk-toggleable__control:checked~div.sk-toggleable__content {max-height: 200px;max-width: 100%;overflow: auto;}#sk-container-id-1 input.sk-toggleable__control:checked~label.sk-toggleable__label-arrow:before {content: \"▾\";}#sk-container-id-1 div.sk-estimator input.sk-toggleable__control:checked~label.sk-toggleable__label {background-color: #d4ebff;}#sk-container-id-1 div.sk-label input.sk-toggleable__control:checked~label.sk-toggleable__label {background-color: #d4ebff;}#sk-container-id-1 input.sk-hidden--visually {border: 0;clip: rect(1px 1px 1px 1px);clip: rect(1px, 1px, 1px, 1px);height: 1px;margin: -1px;overflow: hidden;padding: 0;position: absolute;width: 1px;}#sk-container-id-1 div.sk-estimator {font-family: monospace;background-color: #f0f8ff;border: 1px dotted black;border-radius: 0.25em;box-sizing: border-box;margin-bottom: 0.5em;}#sk-container-id-1 div.sk-estimator:hover {background-color: #d4ebff;}#sk-container-id-1 div.sk-parallel-item::after {content: \"\";width: 100%;border-bottom: 1px solid gray;flex-grow: 1;}#sk-container-id-1 div.sk-label:hover label.sk-toggleable__label {background-color: #d4ebff;}#sk-container-id-1 div.sk-serial::before {content: \"\";position: absolute;border-left: 1px solid gray;box-sizing: border-box;top: 0;bottom: 0;left: 50%;z-index: 0;}#sk-container-id-1 div.sk-serial {display: flex;flex-direction: column;align-items: center;background-color: white;padding-right: 0.2em;padding-left: 0.2em;position: relative;}#sk-container-id-1 div.sk-item {position: relative;z-index: 1;}#sk-container-id-1 div.sk-parallel {display: flex;align-items: stretch;justify-content: center;background-color: white;position: relative;}#sk-container-id-1 div.sk-item::before, #sk-container-id-1 div.sk-parallel-item::before {content: \"\";position: absolute;border-left: 1px solid gray;box-sizing: border-box;top: 0;bottom: 0;left: 50%;z-index: -1;}#sk-container-id-1 div.sk-parallel-item {display: flex;flex-direction: column;z-index: 1;position: relative;background-color: white;}#sk-container-id-1 div.sk-parallel-item:first-child::after {align-self: flex-end;width: 50%;}#sk-container-id-1 div.sk-parallel-item:last-child::after {align-self: flex-start;width: 50%;}#sk-container-id-1 div.sk-parallel-item:only-child::after {width: 0;}#sk-container-id-1 div.sk-dashed-wrapped {border: 1px dashed gray;margin: 0 0.4em 0.5em 0.4em;box-sizing: border-box;padding-bottom: 0.4em;background-color: white;}#sk-container-id-1 div.sk-label label {font-family: monospace;font-weight: bold;display: inline-block;line-height: 1.2em;}#sk-container-id-1 div.sk-label-container {text-align: center;}#sk-container-id-1 div.sk-container {/* jupyter's `normalize.less` sets `[hidden] { display: none; }` but bootstrap.min.css set `[hidden] { display: none !important; }` so we also need the `!important` here to be able to override the default hidden behavior on the sphinx rendered scikit-learn.org. See: https://github.com/scikit-learn/scikit-learn/issues/21755 */display: inline-block !important;position: relative;}#sk-container-id-1 div.sk-text-repr-fallback {display: none;}</style><div id=\"sk-container-id-1\" class=\"sk-top-container\"><div class=\"sk-text-repr-fallback\"><pre>XGBClassifier(base_score=None, booster=None, callbacks=None,\n",
       "              colsample_bylevel=None, colsample_bynode=None,\n",
       "              colsample_bytree=None, early_stopping_rounds=None,\n",
       "              enable_categorical=False, eval_metric=None, feature_types=None,\n",
       "              gamma=None, gpu_id=None, grow_policy=None, importance_type=None,\n",
       "              interaction_constraints=None, learning_rate=None, max_bin=None,\n",
       "              max_cat_threshold=None, max_cat_to_onehot=None,\n",
       "              max_delta_step=None, max_depth=None, max_leaves=None,\n",
       "              min_child_weight=None, missing=nan, monotone_constraints=None,\n",
       "              n_estimators=100, n_jobs=None, num_parallel_tree=None,\n",
       "              predictor=None, random_state=None, ...)</pre><b>In a Jupyter environment, please rerun this cell to show the HTML representation or trust the notebook. <br />On GitHub, the HTML representation is unable to render, please try loading this page with nbviewer.org.</b></div><div class=\"sk-container\" hidden><div class=\"sk-item\"><div class=\"sk-estimator sk-toggleable\"><input class=\"sk-toggleable__control sk-hidden--visually\" id=\"sk-estimator-id-1\" type=\"checkbox\" checked><label for=\"sk-estimator-id-1\" class=\"sk-toggleable__label sk-toggleable__label-arrow\">XGBClassifier</label><div class=\"sk-toggleable__content\"><pre>XGBClassifier(base_score=None, booster=None, callbacks=None,\n",
       "              colsample_bylevel=None, colsample_bynode=None,\n",
       "              colsample_bytree=None, early_stopping_rounds=None,\n",
       "              enable_categorical=False, eval_metric=None, feature_types=None,\n",
       "              gamma=None, gpu_id=None, grow_policy=None, importance_type=None,\n",
       "              interaction_constraints=None, learning_rate=None, max_bin=None,\n",
       "              max_cat_threshold=None, max_cat_to_onehot=None,\n",
       "              max_delta_step=None, max_depth=None, max_leaves=None,\n",
       "              min_child_weight=None, missing=nan, monotone_constraints=None,\n",
       "              n_estimators=100, n_jobs=None, num_parallel_tree=None,\n",
       "              predictor=None, random_state=None, ...)</pre></div></div></div></div></div>"
      ],
      "text/plain": [
       "XGBClassifier(base_score=None, booster=None, callbacks=None,\n",
       "              colsample_bylevel=None, colsample_bynode=None,\n",
       "              colsample_bytree=None, early_stopping_rounds=None,\n",
       "              enable_categorical=False, eval_metric=None, feature_types=None,\n",
       "              gamma=None, gpu_id=None, grow_policy=None, importance_type=None,\n",
       "              interaction_constraints=None, learning_rate=None, max_bin=None,\n",
       "              max_cat_threshold=None, max_cat_to_onehot=None,\n",
       "              max_delta_step=None, max_depth=None, max_leaves=None,\n",
       "              min_child_weight=None, missing=nan, monotone_constraints=None,\n",
       "              n_estimators=100, n_jobs=None, num_parallel_tree=None,\n",
       "              predictor=None, random_state=None, ...)"
      ]
     },
     "execution_count": 28,
     "metadata": {},
     "output_type": "execute_result"
    }
   ],
   "source": [
    "#Treinando o modelo\n",
    "model = model.fit(X_train, y_train)\n",
    "model"
   ]
  },
  {
   "cell_type": "code",
   "execution_count": 29,
   "id": "aa1e4f08",
   "metadata": {},
   "outputs": [],
   "source": [
    "# Fazendo o teste"
   ]
  },
  {
   "cell_type": "code",
   "execution_count": 30,
   "id": "0ab8371c",
   "metadata": {},
   "outputs": [],
   "source": [
    "#Bibliotecas\n",
    "from sklearn.metrics import classification_report\n",
    "from sklearn.metrics import accuracy_score\n",
    "from sklearn.metrics import confusion_matrix\n",
    "from sklearn.metrics import roc_auc_score"
   ]
  },
  {
   "cell_type": "code",
   "execution_count": 31,
   "id": "6b7d5cf1",
   "metadata": {},
   "outputs": [],
   "source": [
    "y_predict = model.predict(X_test)"
   ]
  },
  {
   "cell_type": "code",
   "execution_count": 32,
   "id": "ea93d9ec",
   "metadata": {},
   "outputs": [
    {
     "data": {
      "text/html": [
       "<div>\n",
       "<style scoped>\n",
       "    .dataframe tbody tr th:only-of-type {\n",
       "        vertical-align: middle;\n",
       "    }\n",
       "\n",
       "    .dataframe tbody tr th {\n",
       "        vertical-align: top;\n",
       "    }\n",
       "\n",
       "    .dataframe thead th {\n",
       "        text-align: right;\n",
       "    }\n",
       "</style>\n",
       "<table border=\"1\" class=\"dataframe\">\n",
       "  <thead>\n",
       "    <tr style=\"text-align: right;\">\n",
       "      <th></th>\n",
       "      <th>Gabarito</th>\n",
       "      <th>Previsões_da_Máquina</th>\n",
       "    </tr>\n",
       "  </thead>\n",
       "  <tbody>\n",
       "    <tr>\n",
       "      <th>5370</th>\n",
       "      <td>0</td>\n",
       "      <td>0</td>\n",
       "    </tr>\n",
       "    <tr>\n",
       "      <th>22692</th>\n",
       "      <td>1</td>\n",
       "      <td>1</td>\n",
       "    </tr>\n",
       "    <tr>\n",
       "      <th>16381</th>\n",
       "      <td>1</td>\n",
       "      <td>1</td>\n",
       "    </tr>\n",
       "    <tr>\n",
       "      <th>9820</th>\n",
       "      <td>0</td>\n",
       "      <td>0</td>\n",
       "    </tr>\n",
       "    <tr>\n",
       "      <th>14183</th>\n",
       "      <td>1</td>\n",
       "      <td>1</td>\n",
       "    </tr>\n",
       "    <tr>\n",
       "      <th>...</th>\n",
       "      <td>...</td>\n",
       "      <td>...</td>\n",
       "    </tr>\n",
       "    <tr>\n",
       "      <th>15452</th>\n",
       "      <td>1</td>\n",
       "      <td>1</td>\n",
       "    </tr>\n",
       "    <tr>\n",
       "      <th>18328</th>\n",
       "      <td>1</td>\n",
       "      <td>1</td>\n",
       "    </tr>\n",
       "    <tr>\n",
       "      <th>7573</th>\n",
       "      <td>0</td>\n",
       "      <td>0</td>\n",
       "    </tr>\n",
       "    <tr>\n",
       "      <th>7748</th>\n",
       "      <td>0</td>\n",
       "      <td>0</td>\n",
       "    </tr>\n",
       "    <tr>\n",
       "      <th>14505</th>\n",
       "      <td>1</td>\n",
       "      <td>1</td>\n",
       "    </tr>\n",
       "  </tbody>\n",
       "</table>\n",
       "<p>7427 rows × 2 columns</p>\n",
       "</div>"
      ],
      "text/plain": [
       "       Gabarito  Previsões_da_Máquina\n",
       "5370          0                     0\n",
       "22692         1                     1\n",
       "16381         1                     1\n",
       "9820          0                     0\n",
       "14183         1                     1\n",
       "...         ...                   ...\n",
       "15452         1                     1\n",
       "18328         1                     1\n",
       "7573          0                     0\n",
       "7748          0                     0\n",
       "14505         1                     1\n",
       "\n",
       "[7427 rows x 2 columns]"
      ]
     },
     "execution_count": 32,
     "metadata": {},
     "output_type": "execute_result"
    }
   ],
   "source": [
    "gabarito = pd.DataFrame({'Gabarito': y_test,'Previsões_da_Máquina': y_predict})\n",
    "gabarito"
   ]
  },
  {
   "cell_type": "code",
   "execution_count": 33,
   "id": "282bbe08",
   "metadata": {},
   "outputs": [
    {
     "name": "stdout",
     "output_type": "stream",
     "text": [
      "Classification metrics: \n",
      "               precision    recall  f1-score   support\n",
      "\n",
      "           0       1.00      0.99      1.00      3714\n",
      "           1       0.99      1.00      1.00      3713\n",
      "\n",
      "    accuracy                           1.00      7427\n",
      "   macro avg       1.00      1.00      1.00      7427\n",
      "weighted avg       1.00      1.00      1.00      7427\n",
      "\n",
      "Acurácia: \n",
      " 0.9950181769220412\n",
      "Confusion Matrix: \n",
      " [[3695   19]\n",
      " [  18 3695]]\n",
      "Curva ROC: \n",
      " 0.9950181949606972\n"
     ]
    }
   ],
   "source": [
    "print('Classification metrics: \\n', classification_report(y_test,y_predict))\n",
    "print('Acurácia: \\n', accuracy_score(y_test,y_predict))\n",
    "print('Confusion Matrix: \\n', confusion_matrix(y_test,y_predict))\n",
    "print('Curva ROC: \\n', roc_auc_score(y_test,y_predict))"
   ]
  },
  {
   "cell_type": "code",
   "execution_count": 34,
   "id": "6c4d8e75",
   "metadata": {},
   "outputs": [
    {
     "ename": "NameError",
     "evalue": "name 'importances' is not defined",
     "output_type": "error",
     "traceback": [
      "\u001b[0;31m---------------------------------------------------------------------------\u001b[0m",
      "\u001b[0;31mNameError\u001b[0m                                 Traceback (most recent call last)",
      "\u001b[0;32m<ipython-input-34-8ea27afb6316>\u001b[0m in \u001b[0;36m<module>\u001b[0;34m\u001b[0m\n\u001b[1;32m      1\u001b[0m \u001b[0;31m# criar um DataFrame com as importâncias das variáveis\u001b[0m\u001b[0;34m\u001b[0m\u001b[0;34m\u001b[0m\u001b[0;34m\u001b[0m\u001b[0m\n\u001b[0;32m----> 2\u001b[0;31m \u001b[0mdf_importances\u001b[0m \u001b[0;34m=\u001b[0m \u001b[0mpd\u001b[0m\u001b[0;34m.\u001b[0m\u001b[0mDataFrame\u001b[0m\u001b[0;34m(\u001b[0m\u001b[0;34m{\u001b[0m\u001b[0;34m'feature'\u001b[0m\u001b[0;34m:\u001b[0m \u001b[0mX_train\u001b[0m\u001b[0;34m.\u001b[0m\u001b[0mcolumns\u001b[0m\u001b[0;34m,\u001b[0m \u001b[0;34m'importance'\u001b[0m\u001b[0;34m:\u001b[0m \u001b[0mimportances\u001b[0m\u001b[0;34m}\u001b[0m\u001b[0;34m)\u001b[0m\u001b[0;34m\u001b[0m\u001b[0;34m\u001b[0m\u001b[0m\n\u001b[0m\u001b[1;32m      3\u001b[0m \u001b[0;34m\u001b[0m\u001b[0m\n\u001b[1;32m      4\u001b[0m \u001b[0;31m# ordenar o DataFrame por importância\u001b[0m\u001b[0;34m\u001b[0m\u001b[0;34m\u001b[0m\u001b[0;34m\u001b[0m\u001b[0m\n\u001b[1;32m      5\u001b[0m \u001b[0mdf_importances\u001b[0m \u001b[0;34m=\u001b[0m \u001b[0mdf_importances\u001b[0m\u001b[0;34m.\u001b[0m\u001b[0msort_values\u001b[0m\u001b[0;34m(\u001b[0m\u001b[0;34m'importance'\u001b[0m\u001b[0;34m,\u001b[0m \u001b[0mascending\u001b[0m\u001b[0;34m=\u001b[0m\u001b[0;32mFalse\u001b[0m\u001b[0;34m)\u001b[0m\u001b[0;34m\u001b[0m\u001b[0;34m\u001b[0m\u001b[0m\n",
      "\u001b[0;31mNameError\u001b[0m: name 'importances' is not defined"
     ]
    }
   ],
   "source": [
    "# criar um DataFrame com as importâncias das variáveis\n",
    "df_importances = pd.DataFrame({'feature': X_train.columns, 'importance': importances})\n",
    "\n",
    "# ordenar o DataFrame por importância\n",
    "df_importances = df_importances.sort_values('importance', ascending=False)\n",
    "\n",
    "# imprimir o DataFrame\n",
    "print(df_importances)"
   ]
  },
  {
   "cell_type": "markdown",
   "id": "ed5d5ce5",
   "metadata": {},
   "source": [
    "# Aplicando LightGBM"
   ]
  },
  {
   "cell_type": "code",
   "execution_count": 8,
   "id": "226cfc0f",
   "metadata": {},
   "outputs": [
    {
     "name": "stdout",
     "output_type": "stream",
     "text": [
      "Requirement already satisfied: lightgbm in /Users/joaopaulomenezes/opt/anaconda3/lib/python3.8/site-packages (3.3.5)\r\n",
      "Requirement already satisfied: wheel in /Users/joaopaulomenezes/opt/anaconda3/lib/python3.8/site-packages (from lightgbm) (0.36.2)\r\n",
      "Requirement already satisfied: scikit-learn!=0.22.0 in /Users/joaopaulomenezes/opt/anaconda3/lib/python3.8/site-packages (from lightgbm) (1.2.2)\r\n",
      "Requirement already satisfied: numpy in /Users/joaopaulomenezes/opt/anaconda3/lib/python3.8/site-packages (from lightgbm) (1.20.1)\r\n",
      "Requirement already satisfied: scipy in /Users/joaopaulomenezes/opt/anaconda3/lib/python3.8/site-packages (from lightgbm) (1.6.2)\r\n",
      "Requirement already satisfied: joblib>=1.1.1 in /Users/joaopaulomenezes/opt/anaconda3/lib/python3.8/site-packages (from scikit-learn!=0.22.0->lightgbm) (1.2.0)\r\n",
      "Requirement already satisfied: threadpoolctl>=2.0.0 in /Users/joaopaulomenezes/opt/anaconda3/lib/python3.8/site-packages (from scikit-learn!=0.22.0->lightgbm) (2.1.0)\r\n"
     ]
    }
   ],
   "source": [
    "#Biblioteca\n",
    "!pip install lightgbm"
   ]
  },
  {
   "cell_type": "code",
   "execution_count": 1,
   "id": "37cd9773",
   "metadata": {},
   "outputs": [
    {
     "ename": "OSError",
     "evalue": "dlopen(/Users/joaopaulomenezes/opt/anaconda3/lib/python3.8/site-packages/lightgbm/lib_lightgbm.so, 0x0006): Library not loaded: /usr/local/opt/libomp/lib/libomp.dylib\n  Referenced from: <D21A7969-4567-3BC7-94ED-6A9E83AE9D78> /Users/joaopaulomenezes/opt/anaconda3/lib/python3.8/site-packages/lightgbm/lib_lightgbm.so\n  Reason: tried: '/usr/local/opt/libomp/lib/libomp.dylib' (no such file), '/System/Volumes/Preboot/Cryptexes/OS/usr/local/opt/libomp/lib/libomp.dylib' (no such file), '/usr/local/opt/libomp/lib/libomp.dylib' (no such file), '/usr/local/lib/libomp.dylib' (no such file), '/usr/lib/libomp.dylib' (no such file, not in dyld cache)",
     "output_type": "error",
     "traceback": [
      "\u001b[0;31m---------------------------------------------------------------------------\u001b[0m",
      "\u001b[0;31mOSError\u001b[0m                                   Traceback (most recent call last)",
      "\u001b[0;32m<ipython-input-1-db68a245795b>\u001b[0m in \u001b[0;36m<module>\u001b[0;34m\u001b[0m\n\u001b[0;32m----> 1\u001b[0;31m \u001b[0;32mfrom\u001b[0m \u001b[0mlightgbm\u001b[0m \u001b[0;32mimport\u001b[0m \u001b[0mLGBMClassifier\u001b[0m\u001b[0;34m\u001b[0m\u001b[0;34m\u001b[0m\u001b[0m\n\u001b[0m",
      "\u001b[0;32m~/opt/anaconda3/lib/python3.8/site-packages/lightgbm/__init__.py\u001b[0m in \u001b[0;36m<module>\u001b[0;34m\u001b[0m\n\u001b[1;32m      6\u001b[0m \u001b[0;32mfrom\u001b[0m \u001b[0mpathlib\u001b[0m \u001b[0;32mimport\u001b[0m \u001b[0mPath\u001b[0m\u001b[0;34m\u001b[0m\u001b[0;34m\u001b[0m\u001b[0m\n\u001b[1;32m      7\u001b[0m \u001b[0;34m\u001b[0m\u001b[0m\n\u001b[0;32m----> 8\u001b[0;31m \u001b[0;32mfrom\u001b[0m \u001b[0;34m.\u001b[0m\u001b[0mbasic\u001b[0m \u001b[0;32mimport\u001b[0m \u001b[0mBooster\u001b[0m\u001b[0;34m,\u001b[0m \u001b[0mDataset\u001b[0m\u001b[0;34m,\u001b[0m \u001b[0mSequence\u001b[0m\u001b[0;34m,\u001b[0m \u001b[0mregister_logger\u001b[0m\u001b[0;34m\u001b[0m\u001b[0;34m\u001b[0m\u001b[0m\n\u001b[0m\u001b[1;32m      9\u001b[0m \u001b[0;32mfrom\u001b[0m \u001b[0;34m.\u001b[0m\u001b[0mcallback\u001b[0m \u001b[0;32mimport\u001b[0m \u001b[0mearly_stopping\u001b[0m\u001b[0;34m,\u001b[0m \u001b[0mlog_evaluation\u001b[0m\u001b[0;34m,\u001b[0m \u001b[0mprint_evaluation\u001b[0m\u001b[0;34m,\u001b[0m \u001b[0mrecord_evaluation\u001b[0m\u001b[0;34m,\u001b[0m \u001b[0mreset_parameter\u001b[0m\u001b[0;34m\u001b[0m\u001b[0;34m\u001b[0m\u001b[0m\n\u001b[1;32m     10\u001b[0m \u001b[0;32mfrom\u001b[0m \u001b[0;34m.\u001b[0m\u001b[0mengine\u001b[0m \u001b[0;32mimport\u001b[0m \u001b[0mCVBooster\u001b[0m\u001b[0;34m,\u001b[0m \u001b[0mcv\u001b[0m\u001b[0;34m,\u001b[0m \u001b[0mtrain\u001b[0m\u001b[0;34m\u001b[0m\u001b[0;34m\u001b[0m\u001b[0m\n",
      "\u001b[0;32m~/opt/anaconda3/lib/python3.8/site-packages/lightgbm/basic.py\u001b[0m in \u001b[0;36m<module>\u001b[0;34m\u001b[0m\n\u001b[1;32m    108\u001b[0m \u001b[0;34m\u001b[0m\u001b[0m\n\u001b[1;32m    109\u001b[0m \u001b[0;34m\u001b[0m\u001b[0m\n\u001b[0;32m--> 110\u001b[0;31m \u001b[0m_LIB\u001b[0m \u001b[0;34m=\u001b[0m \u001b[0m_load_lib\u001b[0m\u001b[0;34m(\u001b[0m\u001b[0;34m)\u001b[0m\u001b[0;34m\u001b[0m\u001b[0;34m\u001b[0m\u001b[0m\n\u001b[0m\u001b[1;32m    111\u001b[0m \u001b[0;34m\u001b[0m\u001b[0m\n\u001b[1;32m    112\u001b[0m \u001b[0;34m\u001b[0m\u001b[0m\n",
      "\u001b[0;32m~/opt/anaconda3/lib/python3.8/site-packages/lightgbm/basic.py\u001b[0m in \u001b[0;36m_load_lib\u001b[0;34m()\u001b[0m\n\u001b[1;32m     99\u001b[0m     \u001b[0;32mif\u001b[0m \u001b[0mlen\u001b[0m\u001b[0;34m(\u001b[0m\u001b[0mlib_path\u001b[0m\u001b[0;34m)\u001b[0m \u001b[0;34m==\u001b[0m \u001b[0;36m0\u001b[0m\u001b[0;34m:\u001b[0m\u001b[0;34m\u001b[0m\u001b[0;34m\u001b[0m\u001b[0m\n\u001b[1;32m    100\u001b[0m         \u001b[0;32mreturn\u001b[0m \u001b[0;32mNone\u001b[0m\u001b[0;34m\u001b[0m\u001b[0;34m\u001b[0m\u001b[0m\n\u001b[0;32m--> 101\u001b[0;31m     \u001b[0mlib\u001b[0m \u001b[0;34m=\u001b[0m \u001b[0mctypes\u001b[0m\u001b[0;34m.\u001b[0m\u001b[0mcdll\u001b[0m\u001b[0;34m.\u001b[0m\u001b[0mLoadLibrary\u001b[0m\u001b[0;34m(\u001b[0m\u001b[0mlib_path\u001b[0m\u001b[0;34m[\u001b[0m\u001b[0;36m0\u001b[0m\u001b[0;34m]\u001b[0m\u001b[0;34m)\u001b[0m\u001b[0;34m\u001b[0m\u001b[0;34m\u001b[0m\u001b[0m\n\u001b[0m\u001b[1;32m    102\u001b[0m     \u001b[0mlib\u001b[0m\u001b[0;34m.\u001b[0m\u001b[0mLGBM_GetLastError\u001b[0m\u001b[0;34m.\u001b[0m\u001b[0mrestype\u001b[0m \u001b[0;34m=\u001b[0m \u001b[0mctypes\u001b[0m\u001b[0;34m.\u001b[0m\u001b[0mc_char_p\u001b[0m\u001b[0;34m\u001b[0m\u001b[0;34m\u001b[0m\u001b[0m\n\u001b[1;32m    103\u001b[0m     \u001b[0mcallback\u001b[0m \u001b[0;34m=\u001b[0m \u001b[0mctypes\u001b[0m\u001b[0;34m.\u001b[0m\u001b[0mCFUNCTYPE\u001b[0m\u001b[0;34m(\u001b[0m\u001b[0;32mNone\u001b[0m\u001b[0;34m,\u001b[0m \u001b[0mctypes\u001b[0m\u001b[0;34m.\u001b[0m\u001b[0mc_char_p\u001b[0m\u001b[0;34m)\u001b[0m\u001b[0;34m\u001b[0m\u001b[0;34m\u001b[0m\u001b[0m\n",
      "\u001b[0;32m~/opt/anaconda3/lib/python3.8/ctypes/__init__.py\u001b[0m in \u001b[0;36mLoadLibrary\u001b[0;34m(self, name)\u001b[0m\n\u001b[1;32m    457\u001b[0m \u001b[0;34m\u001b[0m\u001b[0m\n\u001b[1;32m    458\u001b[0m     \u001b[0;32mdef\u001b[0m \u001b[0mLoadLibrary\u001b[0m\u001b[0;34m(\u001b[0m\u001b[0mself\u001b[0m\u001b[0;34m,\u001b[0m \u001b[0mname\u001b[0m\u001b[0;34m)\u001b[0m\u001b[0;34m:\u001b[0m\u001b[0;34m\u001b[0m\u001b[0;34m\u001b[0m\u001b[0m\n\u001b[0;32m--> 459\u001b[0;31m         \u001b[0;32mreturn\u001b[0m \u001b[0mself\u001b[0m\u001b[0;34m.\u001b[0m\u001b[0m_dlltype\u001b[0m\u001b[0;34m(\u001b[0m\u001b[0mname\u001b[0m\u001b[0;34m)\u001b[0m\u001b[0;34m\u001b[0m\u001b[0;34m\u001b[0m\u001b[0m\n\u001b[0m\u001b[1;32m    460\u001b[0m \u001b[0;34m\u001b[0m\u001b[0m\n\u001b[1;32m    461\u001b[0m \u001b[0mcdll\u001b[0m \u001b[0;34m=\u001b[0m \u001b[0mLibraryLoader\u001b[0m\u001b[0;34m(\u001b[0m\u001b[0mCDLL\u001b[0m\u001b[0;34m)\u001b[0m\u001b[0;34m\u001b[0m\u001b[0;34m\u001b[0m\u001b[0m\n",
      "\u001b[0;32m~/opt/anaconda3/lib/python3.8/ctypes/__init__.py\u001b[0m in \u001b[0;36m__init__\u001b[0;34m(self, name, mode, handle, use_errno, use_last_error, winmode)\u001b[0m\n\u001b[1;32m    379\u001b[0m \u001b[0;34m\u001b[0m\u001b[0m\n\u001b[1;32m    380\u001b[0m         \u001b[0;32mif\u001b[0m \u001b[0mhandle\u001b[0m \u001b[0;32mis\u001b[0m \u001b[0;32mNone\u001b[0m\u001b[0;34m:\u001b[0m\u001b[0;34m\u001b[0m\u001b[0;34m\u001b[0m\u001b[0m\n\u001b[0;32m--> 381\u001b[0;31m             \u001b[0mself\u001b[0m\u001b[0;34m.\u001b[0m\u001b[0m_handle\u001b[0m \u001b[0;34m=\u001b[0m \u001b[0m_dlopen\u001b[0m\u001b[0;34m(\u001b[0m\u001b[0mself\u001b[0m\u001b[0;34m.\u001b[0m\u001b[0m_name\u001b[0m\u001b[0;34m,\u001b[0m \u001b[0mmode\u001b[0m\u001b[0;34m)\u001b[0m\u001b[0;34m\u001b[0m\u001b[0;34m\u001b[0m\u001b[0m\n\u001b[0m\u001b[1;32m    382\u001b[0m         \u001b[0;32melse\u001b[0m\u001b[0;34m:\u001b[0m\u001b[0;34m\u001b[0m\u001b[0;34m\u001b[0m\u001b[0m\n\u001b[1;32m    383\u001b[0m             \u001b[0mself\u001b[0m\u001b[0;34m.\u001b[0m\u001b[0m_handle\u001b[0m \u001b[0;34m=\u001b[0m \u001b[0mhandle\u001b[0m\u001b[0;34m\u001b[0m\u001b[0;34m\u001b[0m\u001b[0m\n",
      "\u001b[0;31mOSError\u001b[0m: dlopen(/Users/joaopaulomenezes/opt/anaconda3/lib/python3.8/site-packages/lightgbm/lib_lightgbm.so, 0x0006): Library not loaded: /usr/local/opt/libomp/lib/libomp.dylib\n  Referenced from: <D21A7969-4567-3BC7-94ED-6A9E83AE9D78> /Users/joaopaulomenezes/opt/anaconda3/lib/python3.8/site-packages/lightgbm/lib_lightgbm.so\n  Reason: tried: '/usr/local/opt/libomp/lib/libomp.dylib' (no such file), '/System/Volumes/Preboot/Cryptexes/OS/usr/local/opt/libomp/lib/libomp.dylib' (no such file), '/usr/local/opt/libomp/lib/libomp.dylib' (no such file), '/usr/local/lib/libomp.dylib' (no such file), '/usr/lib/libomp.dylib' (no such file, not in dyld cache)"
     ]
    }
   ],
   "source": [
    "from lightgbm import LGBMClassifier"
   ]
  },
  {
   "cell_type": "code",
   "execution_count": 12,
   "id": "92b5fe62",
   "metadata": {
    "collapsed": true
   },
   "outputs": [
    {
     "ename": "OSError",
     "evalue": "dlopen(/Users/joaopaulomenezes/opt/anaconda3/lib/python3.8/site-packages/lightgbm/lib_lightgbm.so, 0x0006): Library not loaded: /usr/local/opt/libomp/lib/libomp.dylib\n  Referenced from: <D21A7969-4567-3BC7-94ED-6A9E83AE9D78> /Users/joaopaulomenezes/opt/anaconda3/lib/python3.8/site-packages/lightgbm/lib_lightgbm.so\n  Reason: tried: '/usr/local/opt/libomp/lib/libomp.dylib' (no such file), '/System/Volumes/Preboot/Cryptexes/OS/usr/local/opt/libomp/lib/libomp.dylib' (no such file), '/usr/local/opt/libomp/lib/libomp.dylib' (no such file), '/usr/local/lib/libomp.dylib' (no such file), '/usr/lib/libomp.dylib' (no such file, not in dyld cache)",
     "output_type": "error",
     "traceback": [
      "\u001b[0;31m---------------------------------------------------------------------------\u001b[0m",
      "\u001b[0;31mOSError\u001b[0m                                   Traceback (most recent call last)",
      "\u001b[0;32m<ipython-input-12-5dacb4a27011>\u001b[0m in \u001b[0;36m<module>\u001b[0;34m\u001b[0m\n\u001b[0;32m----> 1\u001b[0;31m \u001b[0;32mimport\u001b[0m \u001b[0mlightgbm\u001b[0m \u001b[0;32mas\u001b[0m \u001b[0mlgb\u001b[0m\u001b[0;34m\u001b[0m\u001b[0;34m\u001b[0m\u001b[0m\n\u001b[0m",
      "\u001b[0;32m~/opt/anaconda3/lib/python3.8/site-packages/lightgbm/__init__.py\u001b[0m in \u001b[0;36m<module>\u001b[0;34m\u001b[0m\n\u001b[1;32m      6\u001b[0m \u001b[0;32mfrom\u001b[0m \u001b[0mpathlib\u001b[0m \u001b[0;32mimport\u001b[0m \u001b[0mPath\u001b[0m\u001b[0;34m\u001b[0m\u001b[0;34m\u001b[0m\u001b[0m\n\u001b[1;32m      7\u001b[0m \u001b[0;34m\u001b[0m\u001b[0m\n\u001b[0;32m----> 8\u001b[0;31m \u001b[0;32mfrom\u001b[0m \u001b[0;34m.\u001b[0m\u001b[0mbasic\u001b[0m \u001b[0;32mimport\u001b[0m \u001b[0mBooster\u001b[0m\u001b[0;34m,\u001b[0m \u001b[0mDataset\u001b[0m\u001b[0;34m,\u001b[0m \u001b[0mSequence\u001b[0m\u001b[0;34m,\u001b[0m \u001b[0mregister_logger\u001b[0m\u001b[0;34m\u001b[0m\u001b[0;34m\u001b[0m\u001b[0m\n\u001b[0m\u001b[1;32m      9\u001b[0m \u001b[0;32mfrom\u001b[0m \u001b[0;34m.\u001b[0m\u001b[0mcallback\u001b[0m \u001b[0;32mimport\u001b[0m \u001b[0mearly_stopping\u001b[0m\u001b[0;34m,\u001b[0m \u001b[0mlog_evaluation\u001b[0m\u001b[0;34m,\u001b[0m \u001b[0mprint_evaluation\u001b[0m\u001b[0;34m,\u001b[0m \u001b[0mrecord_evaluation\u001b[0m\u001b[0;34m,\u001b[0m \u001b[0mreset_parameter\u001b[0m\u001b[0;34m\u001b[0m\u001b[0;34m\u001b[0m\u001b[0m\n\u001b[1;32m     10\u001b[0m \u001b[0;32mfrom\u001b[0m \u001b[0;34m.\u001b[0m\u001b[0mengine\u001b[0m \u001b[0;32mimport\u001b[0m \u001b[0mCVBooster\u001b[0m\u001b[0;34m,\u001b[0m \u001b[0mcv\u001b[0m\u001b[0;34m,\u001b[0m \u001b[0mtrain\u001b[0m\u001b[0;34m\u001b[0m\u001b[0;34m\u001b[0m\u001b[0m\n",
      "\u001b[0;32m~/opt/anaconda3/lib/python3.8/site-packages/lightgbm/basic.py\u001b[0m in \u001b[0;36m<module>\u001b[0;34m\u001b[0m\n\u001b[1;32m    108\u001b[0m \u001b[0;34m\u001b[0m\u001b[0m\n\u001b[1;32m    109\u001b[0m \u001b[0;34m\u001b[0m\u001b[0m\n\u001b[0;32m--> 110\u001b[0;31m \u001b[0m_LIB\u001b[0m \u001b[0;34m=\u001b[0m \u001b[0m_load_lib\u001b[0m\u001b[0;34m(\u001b[0m\u001b[0;34m)\u001b[0m\u001b[0;34m\u001b[0m\u001b[0;34m\u001b[0m\u001b[0m\n\u001b[0m\u001b[1;32m    111\u001b[0m \u001b[0;34m\u001b[0m\u001b[0m\n\u001b[1;32m    112\u001b[0m \u001b[0;34m\u001b[0m\u001b[0m\n",
      "\u001b[0;32m~/opt/anaconda3/lib/python3.8/site-packages/lightgbm/basic.py\u001b[0m in \u001b[0;36m_load_lib\u001b[0;34m()\u001b[0m\n\u001b[1;32m     99\u001b[0m     \u001b[0;32mif\u001b[0m \u001b[0mlen\u001b[0m\u001b[0;34m(\u001b[0m\u001b[0mlib_path\u001b[0m\u001b[0;34m)\u001b[0m \u001b[0;34m==\u001b[0m \u001b[0;36m0\u001b[0m\u001b[0;34m:\u001b[0m\u001b[0;34m\u001b[0m\u001b[0;34m\u001b[0m\u001b[0m\n\u001b[1;32m    100\u001b[0m         \u001b[0;32mreturn\u001b[0m \u001b[0;32mNone\u001b[0m\u001b[0;34m\u001b[0m\u001b[0;34m\u001b[0m\u001b[0m\n\u001b[0;32m--> 101\u001b[0;31m     \u001b[0mlib\u001b[0m \u001b[0;34m=\u001b[0m \u001b[0mctypes\u001b[0m\u001b[0;34m.\u001b[0m\u001b[0mcdll\u001b[0m\u001b[0;34m.\u001b[0m\u001b[0mLoadLibrary\u001b[0m\u001b[0;34m(\u001b[0m\u001b[0mlib_path\u001b[0m\u001b[0;34m[\u001b[0m\u001b[0;36m0\u001b[0m\u001b[0;34m]\u001b[0m\u001b[0;34m)\u001b[0m\u001b[0;34m\u001b[0m\u001b[0;34m\u001b[0m\u001b[0m\n\u001b[0m\u001b[1;32m    102\u001b[0m     \u001b[0mlib\u001b[0m\u001b[0;34m.\u001b[0m\u001b[0mLGBM_GetLastError\u001b[0m\u001b[0;34m.\u001b[0m\u001b[0mrestype\u001b[0m \u001b[0;34m=\u001b[0m \u001b[0mctypes\u001b[0m\u001b[0;34m.\u001b[0m\u001b[0mc_char_p\u001b[0m\u001b[0;34m\u001b[0m\u001b[0;34m\u001b[0m\u001b[0m\n\u001b[1;32m    103\u001b[0m     \u001b[0mcallback\u001b[0m \u001b[0;34m=\u001b[0m \u001b[0mctypes\u001b[0m\u001b[0;34m.\u001b[0m\u001b[0mCFUNCTYPE\u001b[0m\u001b[0;34m(\u001b[0m\u001b[0;32mNone\u001b[0m\u001b[0;34m,\u001b[0m \u001b[0mctypes\u001b[0m\u001b[0;34m.\u001b[0m\u001b[0mc_char_p\u001b[0m\u001b[0;34m)\u001b[0m\u001b[0;34m\u001b[0m\u001b[0;34m\u001b[0m\u001b[0m\n",
      "\u001b[0;32m~/opt/anaconda3/lib/python3.8/ctypes/__init__.py\u001b[0m in \u001b[0;36mLoadLibrary\u001b[0;34m(self, name)\u001b[0m\n\u001b[1;32m    457\u001b[0m \u001b[0;34m\u001b[0m\u001b[0m\n\u001b[1;32m    458\u001b[0m     \u001b[0;32mdef\u001b[0m \u001b[0mLoadLibrary\u001b[0m\u001b[0;34m(\u001b[0m\u001b[0mself\u001b[0m\u001b[0;34m,\u001b[0m \u001b[0mname\u001b[0m\u001b[0;34m)\u001b[0m\u001b[0;34m:\u001b[0m\u001b[0;34m\u001b[0m\u001b[0;34m\u001b[0m\u001b[0m\n\u001b[0;32m--> 459\u001b[0;31m         \u001b[0;32mreturn\u001b[0m \u001b[0mself\u001b[0m\u001b[0;34m.\u001b[0m\u001b[0m_dlltype\u001b[0m\u001b[0;34m(\u001b[0m\u001b[0mname\u001b[0m\u001b[0;34m)\u001b[0m\u001b[0;34m\u001b[0m\u001b[0;34m\u001b[0m\u001b[0m\n\u001b[0m\u001b[1;32m    460\u001b[0m \u001b[0;34m\u001b[0m\u001b[0m\n\u001b[1;32m    461\u001b[0m \u001b[0mcdll\u001b[0m \u001b[0;34m=\u001b[0m \u001b[0mLibraryLoader\u001b[0m\u001b[0;34m(\u001b[0m\u001b[0mCDLL\u001b[0m\u001b[0;34m)\u001b[0m\u001b[0;34m\u001b[0m\u001b[0;34m\u001b[0m\u001b[0m\n",
      "\u001b[0;32m~/opt/anaconda3/lib/python3.8/ctypes/__init__.py\u001b[0m in \u001b[0;36m__init__\u001b[0;34m(self, name, mode, handle, use_errno, use_last_error, winmode)\u001b[0m\n\u001b[1;32m    379\u001b[0m \u001b[0;34m\u001b[0m\u001b[0m\n\u001b[1;32m    380\u001b[0m         \u001b[0;32mif\u001b[0m \u001b[0mhandle\u001b[0m \u001b[0;32mis\u001b[0m \u001b[0;32mNone\u001b[0m\u001b[0;34m:\u001b[0m\u001b[0;34m\u001b[0m\u001b[0;34m\u001b[0m\u001b[0m\n\u001b[0;32m--> 381\u001b[0;31m             \u001b[0mself\u001b[0m\u001b[0;34m.\u001b[0m\u001b[0m_handle\u001b[0m \u001b[0;34m=\u001b[0m \u001b[0m_dlopen\u001b[0m\u001b[0;34m(\u001b[0m\u001b[0mself\u001b[0m\u001b[0;34m.\u001b[0m\u001b[0m_name\u001b[0m\u001b[0;34m,\u001b[0m \u001b[0mmode\u001b[0m\u001b[0;34m)\u001b[0m\u001b[0;34m\u001b[0m\u001b[0;34m\u001b[0m\u001b[0m\n\u001b[0m\u001b[1;32m    382\u001b[0m         \u001b[0;32melse\u001b[0m\u001b[0;34m:\u001b[0m\u001b[0;34m\u001b[0m\u001b[0;34m\u001b[0m\u001b[0m\n\u001b[1;32m    383\u001b[0m             \u001b[0mself\u001b[0m\u001b[0;34m.\u001b[0m\u001b[0m_handle\u001b[0m \u001b[0;34m=\u001b[0m \u001b[0mhandle\u001b[0m\u001b[0;34m\u001b[0m\u001b[0;34m\u001b[0m\u001b[0m\n",
      "\u001b[0;31mOSError\u001b[0m: dlopen(/Users/joaopaulomenezes/opt/anaconda3/lib/python3.8/site-packages/lightgbm/lib_lightgbm.so, 0x0006): Library not loaded: /usr/local/opt/libomp/lib/libomp.dylib\n  Referenced from: <D21A7969-4567-3BC7-94ED-6A9E83AE9D78> /Users/joaopaulomenezes/opt/anaconda3/lib/python3.8/site-packages/lightgbm/lib_lightgbm.so\n  Reason: tried: '/usr/local/opt/libomp/lib/libomp.dylib' (no such file), '/System/Volumes/Preboot/Cryptexes/OS/usr/local/opt/libomp/lib/libomp.dylib' (no such file), '/usr/local/opt/libomp/lib/libomp.dylib' (no such file), '/usr/local/lib/libomp.dylib' (no such file), '/usr/lib/libomp.dylib' (no such file, not in dyld cache)"
     ]
    }
   ],
   "source": [
    "import lightgbm as lgb"
   ]
  },
  {
   "cell_type": "code",
   "execution_count": null,
   "id": "e5fa7731",
   "metadata": {},
   "outputs": [],
   "source": [
    "train_data=lgb.Dataset(X_train, label=y_train)\n",
    "#Parametros\n",
    "param = {'num_leaves':1000, objective:'binary', 'max_depth':7, 'learning_rate': .01, 'max_bin':200}\n",
    "param ['metric'] = ['auc', 'binary_bigloss']\n",
    "\n",
    "num_round=50\n",
    "lgbm=lgb.train(param,train_data,num_round)\n"
   ]
  },
  {
   "cell_type": "markdown",
   "id": "ecc541c2",
   "metadata": {},
   "source": [
    "# Aplicando Random Forest"
   ]
  }
 ],
 "metadata": {
  "kernelspec": {
   "display_name": "Python 3",
   "language": "python",
   "name": "python3"
  },
  "language_info": {
   "codemirror_mode": {
    "name": "ipython",
    "version": 3
   },
   "file_extension": ".py",
   "mimetype": "text/x-python",
   "name": "python",
   "nbconvert_exporter": "python",
   "pygments_lexer": "ipython3",
   "version": "3.8.8"
  }
 },
 "nbformat": 4,
 "nbformat_minor": 5
}
